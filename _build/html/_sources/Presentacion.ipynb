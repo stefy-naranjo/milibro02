{
 "cells": [
  {
   "cell_type": "markdown",
   "id": "cc7e5de7",
   "metadata": {},
   "source": [
    "# Datos y aspiraciones"
   ]
  },
  {
   "cell_type": "markdown",
   "id": "223b7979",
   "metadata": {},
   "source": [
    "# Nombre: "
   ]
  },
  {
   "cell_type": "markdown",
   "id": "77ef2454",
   "metadata": {},
   "source": [
    "## Stefanny del Rosario Naranjo Casco"
   ]
  },
  {
   "cell_type": "markdown",
   "id": "469fa6c9",
   "metadata": {},
   "source": [
    "## Cedula"
   ]
  },
  {
   "cell_type": "markdown",
   "id": "dcb4d6a9",
   "metadata": {},
   "source": [
    "## 1805182001"
   ]
  },
  {
   "cell_type": "markdown",
   "id": "f302d7cc",
   "metadata": {},
   "source": [
    "## Sexto semestre Tecnologias de la informacion"
   ]
  },
  {
   "cell_type": "markdown",
   "id": "1c63d940",
   "metadata": {},
   "source": [
    "### Vivo en Banios de Agua Santa de la provincia de Tungurahua soy la hija mayor y vivo con mi madre "
   ]
  }
 ],
 "metadata": {
  "kernelspec": {
   "display_name": "Java",
   "language": "java",
   "name": "java"
  },
  "language_info": {
   "codemirror_mode": "java",
   "file_extension": ".jshell",
   "mimetype": "text/x-java-source",
   "name": "Java",
   "pygments_lexer": "java",
   "version": "11.0.8+10-post-Ubuntu-0ubuntu118.04.1"
  }
 },
 "nbformat": 4,
 "nbformat_minor": 5
}
