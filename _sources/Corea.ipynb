{
 "cells": [
  {
   "cell_type": "markdown",
   "id": "75355616",
   "metadata": {},
   "source": [
    "# COREA DEL SUR\n",
    "![title](img/tecnologia_corea_del_sur.webp)\n",
    "\n",
    "Corea es un país vanguardista en novedades tecnológicas y digitales. El 5G es su última proeza, consiste en lanzar anticipadamente la primera red nacional de telefonía móvil de quinta generación, conocido como 5G, por tres grandes operadores KT, SK Telecom y LG UPlus. Proceso así regulado por Corea, se convierte en el primer país del mundo que ofrece este servicio a nivel nacional, adelantándose a naciones como Estados Unidos, China y Japón. La nueva generación de tecnología, ofrece una velocidad de internet 20 veces superior a la de 4G y ofrece nuevas oportunidades de conectividad, como su aplicación en vehículos no tripulados, el sector de la salud, la infraestructura de la ciudades inteligentes, la seguridad y el transporte urbano. Según la organización System for Mobile Communications, el impacto del 5G podría generar beneficios a la economía mundial hacia el año 2034, que se acercan a 565.000 millones de dólares."
   ]
  },
  {
   "cell_type": "markdown",
   "id": "742ccb3d",
   "metadata": {},
   "source": [
    "## Ley de robótica que permite el desarrollo\n",
    "\n",
    "Durante la gira presidencial a Corea del Sur en abril de 2019, una de las visitas oficiales fue a una localidad al sur de Seúl, en Suwón. El objetivo fue conocer el Museo de la Innovación de Samsung. Esta visita tuvo como propósito la firma de acuerdos entre el gobierno de Chile y la compañía, también conocer los últimos adelantos tecnológicos, tanto en el desarrollo de línea blanca como de robotización, donde Corea es uno de los grandes innovadores a nivel mundial.\n",
    "\n",
    "Según el Índice de Robots Industriales Instalados por cada 10 mil empleados en la industria manufacturera, elaborado por la Federación Internacional de Robótica, Corea del Sur es el país líder a nivel mundial, con 631 robots, seguido de Singapur con 488, Alemania con 309 y Japón con 303. Esta posición no es nueva, desde que la obtuvo el año 2010 la ha sabido mantener, principalmente por los desarrollos en la industria electrónica y automotriz.\n",
    "\n",
    "Esta tendencia ha sido posible gracias a la existencia de una Ley de Desarrollo, Promoción y Distribución de Robots Inteligentes, que publicada en marzo de 2008, tiene como propósito contribuir a mejorar la calidad de vida de los ciudadanos, al mismo tiempo que desarrolla la economía nacional. Esta ley define a los robots inteligentes como un aparato mecánico que percibe el ambiente por sí mismo, discierne frente a determinadas circunstancias y se mueve de manera voluntaria.\n",
    "\n",
    "Bajo este supuesto, la ley establece un código de conducta ética que no solo se aplica a personas que se involucren en el desarrollo, sino más bien a quienes manufacturan y utilizan los los robots. Este código se orienta a prevenir daños o efectos adversos en las personas, como la alteración del orden social como resultado del desarrollo de funciones inapropiadas. Es por ello que también rige a interesados e inversionistas que participen.\n",
    "\n",
    "Además, la ley ha permitido la formulación de dos programas que, más que desarrollar la industria se han enfocado en promover la cooperación entre distintos actores, por ejemplo la Consejo para la Política de Robótica Industrial, creada el 2011 y cuyo fin es promover la integración de distintas partes interesadas en la fabricación de robots, principalmente en la industria manufacturera. El otro es el Instituto de Robótica Industrial Avanzada (Kiria), impulsado por el Ministerio de Comercio, Industria y Energía."
   ]
  },
  {
   "cell_type": "markdown",
   "id": "bb2bfc91",
   "metadata": {},
   "source": [
    "## Necesidad de acelerar la robótica de servicios\n",
    "\n",
    "Se pueden encontrar robots en distintas áreas de la economía coreana. Kim Sang- Mo, director de robótica del Ministerio de Comercio, Industria y Energía, en una publicación sobre las direcciones de la política coreana de robótica industrial, reconoce que para 2018 la mayoría de los robots fueron utilizados en compañías automotoras, eléctricas y electrónicas. A estos se suma la industria de servicios, donde los robots de limpieza y de capacitación concentran el 84 por ciento del mercado. El resto se ubica en usos médicos y aplicaciones logísticas, que reconoce con necesidad de acelerar.\n",
    "\n",
    "En febrero de 2018 el gobierno coreano puso en marcha una nueva estrategia de desarrollo de robots industriales y cuya misión ya no solo es aumentar la competitividad de las industrias, sino crear un ambiente donde humanos y robots puedan coexistir. Para esto, el foco central del desarrollo se enfoca en la industria de servicios o llamados robots de colaboración, al mismo tiempo de desarrollar habilidades y capacidades en personas que se desempeñan en dichas industrias.\n",
    "\n",
    "Según Rodrigo Verschae, académico e investigador del Instituto de Ciencias de la Ingeniería de la Universidad de O’Higgins, hay varios tipos de robótica, pero el de servicios tiene una relación especial con las personas. “Por lo general los robots más tradicionales son los industriales, ellos trabajan en ambientes controlados, mientras que los robots de servicios -que son básicamente colaboradores- ayudan a personas a desempeñar tareas donde están involucradas más personas. En algunos casos tienen que interactuar con ellas pero también entender lo que los usuarios humanos quieren hacer, cuales son sus intenciones y en función de eso comunicarse”, señaló.\n",
    "\n",
    "Es por ello que una de las principales medidas del gobierno coreano ha sido el apoyo a pequeños y medianos fabricantes de robots, a modo que provean más soluciones a más problemas específicos. De igual manera, se enfocan en el logro de robots para casas inteligentes, rehabilitación médica, desastres y seguridad, transporte y agricultura. A esto se suma el esfuerzo realizado por grandes compañías como LG, que desarrolla tecnologías aplicadas a la atención de clientes y cuyo centro de experimentación ha sido el aeropuerto de Incheon, donde entregan información a pasajeros y resuelven problemas en distintos idiomas.\n",
    "\n",
    "Aunque esta experiencia ha sido provechosa, Kim Sang- Mo hace un llamado a no bajar la guardia y seguir promoviendo el trabajo en conjunto entre gobierno y las grandes compañías, pues la apuesta de Corea del Sur, al igual que China, Japón y Alemania, es liderar el mercado global de robots en la era de la industria 4.0."
   ]
  },
  {
   "cell_type": "markdown",
   "id": "136b64ed",
   "metadata": {},
   "source": [
    "## La experiencia de Hubo Lab\n",
    "\n",
    "Durante 2017, el Instituto Coreano de Ciencia y Tecnología Avanzada abrió el Centro de Investigación de Robots Humanoides, conocido simplemente como Hubo Lab. En la ciudad de Daejeon a 140 kilómetros al sur de Seúl, tienen como propósito que los robos puedan pensar por sí mismos y desarrollar inteligencia artificial para ayudar a las personas, como por ejemplo en el rescate de personas.\n",
    "\n",
    "Para ello, el centro está abocado a que los robots bípedos superen las limitaciones propias de los robots, como la falta de equilibrio a la hora de caminar o el excesivo uso de energía para realizar desplazamientos. Este trabajo ha tenido entre sus soluciones la creación de algoritmos para controlar los pasos, la fuerza de reacción y la reducción del tiempo, además de sensores para superar obstáculos. Este trabajo se puede apreciar de mejor manera en una publicación realizada por científicos del Hubo Lab y donde se muestra el trabajo realizado apartir de una técnica de programación cuadrática (QP) que considera el rango cinemático de las extremidades y su proceso de optimización.\n",
    "\n",
    "En otra publicación realizada en el marco del trabajo en Hubo Lab, se muestra como han desarrollado un marco de control vía remota de todo el cuerpo de los humanoides, pero que además permite imitar el movimiento humano de manera eficiente a través de un dispositivo de adquisición de datos que los transforma en movimientos y que es más rápido que sus versiones anteriores, pues tiene mejoras en la vista y en el calculo de las tareas.\n",
    "\n",
    "Tales avances se suman a otros desarrollos realizados por científicos e ingenieros surcoreanos en alianza con importantes centros internacionales de investigación, incluso de universidades como el MIT. Aunque no existe una sola meta específica, la misión de Hubo Lab es hacer de los robots un medio amigable para los humanos y que, gracias a sus adelantos, contribuya en su bienestar."
   ]
  }
 ],
 "metadata": {
  "kernelspec": {
   "display_name": "Python 3",
   "language": "python",
   "name": "python3"
  },
  "language_info": {
   "codemirror_mode": {
    "name": "ipython",
    "version": 3
   },
   "file_extension": ".py",
   "mimetype": "text/x-python",
   "name": "python",
   "nbconvert_exporter": "python",
   "pygments_lexer": "ipython3",
   "version": "3.6.9"
  }
 },
 "nbformat": 4,
 "nbformat_minor": 5
}
