{
 "cells": [
  {
   "cell_type": "markdown",
   "id": "6ae5db31",
   "metadata": {},
   "source": [
    "# PRESENTACION PERSONAL\n",
    "\n",
    " ![title](img/stefy.png)\n",
    "\n",
    "## NOMBRE: STEFANNY NARANJO            \n",
    "\n",
    "## CEDULA: 1805182001\n",
    "\n",
    "## SEXTO SEMESTRE DE TECNOLOGIAS DE LA INFORMACION \n",
    "\n",
    "Soy Stefanny del Rosario Naranjo Casco tengo 28 anios vivo enla coiudad de Banios de Agua Santa de a provincia de Tungurahua, me gusta la programacion, con anterioridad tengo un tecnologado en analisis de sistemas,  tengo conocimientos en C++, php y Javascript.\n",
    "\n",
    "\n",
    "### Aspiraciones\n",
    "\n",
    "Actualmente mis deseos son culminar la carrera para posteriormente postular a una beca internacional y asi lograr obtener una maestria en Inteligencia Artificial y posterior a eso ejercer un vida laboral basada en mis valores y etica, ya sea en el pais o en el exterior.\n",
    "\n",
    "Mi suenio es especializarme en el pais de Corea del Sur ya que a mi criterio es no de los pioneros en cuanto a los avances tecnologicos se tratan.\n"
   ]
  },
  {
   "cell_type": "markdown",
   "id": "2347b333",
   "metadata": {},
   "source": [
    "Este proyecto esta basado en 3 paginas las cuaes enlistare a continuacion:\n",
    " - Histrial Academico\n",
    " - Avance de Titulacion\n",
    " - Corea del Sur"
   ]
  }
 ],
 "metadata": {
  "kernelspec": {
   "display_name": "Python 3",
   "language": "python",
   "name": "python3"
  },
  "language_info": {
   "codemirror_mode": {
    "name": "ipython",
    "version": 3
   },
   "file_extension": ".py",
   "mimetype": "text/x-python",
   "name": "python",
   "nbconvert_exporter": "python",
   "pygments_lexer": "ipython3",
   "version": "3.6.9"
  }
 },
 "nbformat": 4,
 "nbformat_minor": 5
}
